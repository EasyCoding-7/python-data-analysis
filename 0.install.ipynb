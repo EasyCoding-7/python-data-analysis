{
 "cells": [
  {
   "cell_type": "markdown",
   "metadata": {},
   "source": [
    "## 설치법\n",
    "\n",
    "1. 가상환경 설치 : `$ python -m venv venv` \n",
    "2. 가상환경 활성화 : `$ .\\venv\\Scripts\\activate`\n",
    "3. pip install : `(venv) $ pip install -r ./requirements.txt`\n",
    "4. jupyter 실행 : \n",
    "    * Visual Studio Code에서도 실행을 지원하고\n",
    "    * `$ jupyter notebook` 명령으로도 실행을 지원"
   ]
  }
 ],
 "metadata": {
  "language_info": {
   "name": "python"
  },
  "orig_nbformat": 4
 },
 "nbformat": 4,
 "nbformat_minor": 2
}
